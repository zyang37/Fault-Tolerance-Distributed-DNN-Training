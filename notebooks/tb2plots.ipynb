{
 "cells": [
  {
   "cell_type": "code",
   "execution_count": 1,
   "id": "ef968a84-9663-45d7-905f-e914c740fb0d",
   "metadata": {
    "tags": []
   },
   "outputs": [],
   "source": [
    "%matplotlib inline\n",
    "\n",
    "import numpy as np\n",
    "import pandas as pd\n",
    "import matplotlib.pyplot as plt"
   ]
  },
  {
   "cell_type": "code",
   "execution_count": null,
   "id": "7b0470ff-9cae-43d8-965a-8c67b336d6a5",
   "metadata": {},
   "outputs": [],
   "source": [
    "def step_vals_from_log(csv_path, step_col=\"Step\", val_col=\"Value\"):\n",
    "    df = pd.read_csv(csv_path)\n",
    "    step = df['Step'].values\n",
    "    vals = df['Value'].values\n",
    "    return step, vals"
   ]
  },
  {
   "cell_type": "code",
   "execution_count": null,
   "id": "0cd15d1a-4e7b-44fa-9958-9dd51f09a59a",
   "metadata": {
    "tags": []
   },
   "outputs": [],
   "source": [
    "health_loss = \"../data/csv_files/motivation_plots/run-healthy-tag-Loss_train.csv\"\n",
    "f_loss = \"../data/csv_files/motivation_plots/run-1f-tag-Loss_train.csv\"\n",
    "krum_loss = \"../data/csv_files/motivation_plots/run-1f_krum-tag-Loss_train.csv\"\n",
    "\n",
    "steps, vals = step_vals_from_log(health_loss)"
   ]
  },
  {
   "cell_type": "code",
   "execution_count": null,
   "id": "f55fef06-f051-485b-ba66-c86b97af3c89",
   "metadata": {
    "tags": []
   },
   "outputs": [],
   "source": [
    "plt.figure(figsize=(6, 4))\n",
    "\n",
    "alpha = 1\n",
    "\n",
    "steps, vals = step_vals_from_log(health_loss)\n",
    "plt.plot(steps, vals, label=\"Normal training\", c='g', linewidth=2, alpha=alpha)\n",
    "\n",
    "steps, vals = step_vals_from_log(f_loss)\n",
    "plt.plot(steps, vals, label=\"1 malicious worker\", c='r', linewidth=2, alpha=alpha)\n",
    "\n",
    "steps, vals = step_vals_from_log(krum_loss)\n",
    "plt.plot(steps, vals, label=\"1 malicious worker (Krum)\", c='darkorange', linewidth=2, alpha=alpha)\n",
    "\n",
    "plt.title(\"Training Loss\")\n",
    "plt.xlabel(\"Iterations\")\n",
    "\n",
    "plt.legend()\n",
    "plt.tight_layout()\n",
    "\n",
    "plt.savefig(\"../data/plots/motivation.png\")\n",
    "plt.show()"
   ]
  },
  {
   "cell_type": "code",
   "execution_count": null,
   "id": "035a0a15-4424-44f7-94e8-cc06a04b0f54",
   "metadata": {},
   "outputs": [],
   "source": []
  }
 ],
 "metadata": {
  "kernelspec": {
   "display_name": "Python 3 (ipykernel)",
   "language": "python",
   "name": "python3"
  },
  "language_info": {
   "codemirror_mode": {
    "name": "ipython",
    "version": 3
   },
   "file_extension": ".py",
   "mimetype": "text/x-python",
   "name": "python",
   "nbconvert_exporter": "python",
   "pygments_lexer": "ipython3",
   "version": "3.9.18"
  }
 },
 "nbformat": 4,
 "nbformat_minor": 5
}
